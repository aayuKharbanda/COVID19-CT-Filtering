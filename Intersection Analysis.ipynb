{
 "cells": [
  {
   "cell_type": "code",
   "execution_count": 33,
   "metadata": {},
   "outputs": [
    {
     "name": "stdout",
     "output_type": "stream",
     "text": [
      "   ID  EntryNo   Latitude  Longitude      StartTime        EndTime  Confidence\n",
      "0   1        1  26.504618  80.234085  1585899128216  1586079212033          45\n",
      "1   1        2  26.512339  80.232900  1586079212033  1586112661889          43\n",
      "2   1        3  26.504618  80.234085  1586112661889  1587192839028          58\n",
      "3   1        4  26.479226  80.316044  1587193983171  1587201765567          59\n",
      "4   1        5  26.505190  80.233854  1587203238549  1587222096045          39\n",
      "5   1        6  26.504618  80.234085  1587222096045  1587448925750          42\n",
      "6   1        7  26.505190  80.233854  1587448925750  1587464070774          68\n",
      "7   1        8  26.504618  80.234085  1587464070774  1587547397074          50\n",
      "8   1        9  26.512247  80.224899  1587548872724  1587551316629          50\n",
      "9   1       10  26.504618  80.234085  1587552789926  1587638455988          49\n",
      "    ID  EntryNo   Latitude  Longitude      StartTime        EndTime  \\\n",
      "0    1        1  26.512339  80.232900  1585715830908  1585716537579   \n",
      "1    1        2  26.516517  80.237077  1585717496584  1585802162972   \n",
      "2    1        3  26.516517  80.237077  1585804118954  1585919576333   \n",
      "3    1        4  26.516517  80.237077  1585922216759  1585977692000   \n",
      "4    1        5  26.516517  80.237077  1585979100840  1586067461000   \n",
      "5    1        6  26.512339  80.232900  1586067461000  1586069391000   \n",
      "6    1        7  26.516517  80.237077  1586069546000  1586153468947   \n",
      "7    1        8  26.514348  80.234870  1586153582248  1586154783206   \n",
      "8    1        9  26.516517  80.237077  1586155024818  1586610604416   \n",
      "9    1       10  26.505190  80.233854  1586610994761  1586612701307   \n",
      "10   1       11  26.516517  80.237077  1586613289000  1587007741211   \n",
      "11   1       12  26.505190  80.233854  1587008703082  1587009423658   \n",
      "12   1       13  26.516517  80.237077  1587009900860  1587186378436   \n",
      "13   1       14  26.514348  80.234870  1587186540000  1587190702000   \n",
      "14   1       15  26.516517  80.237077  1587191220388  1587192976000   \n",
      "15   1       16  26.479226  80.316044  1587194109000  1587202022636   \n",
      "16   1       17  26.516517  80.237077  1587203713000  1587277671000   \n",
      "17   1       18  26.507488  80.234787  1587277969000  1587282045000   \n",
      "18   1       19  26.505785  80.233672  1587282302832  1587283260371   \n",
      "19   1       20  26.514348  80.234870  1587381966202  1587386222288   \n",
      "\n",
      "    Confidence  \n",
      "0           94  \n",
      "1           84  \n",
      "2           88  \n",
      "3           90  \n",
      "4           90  \n",
      "5           99  \n",
      "6           89  \n",
      "7           84  \n",
      "8           91  \n",
      "9           91  \n",
      "10          96  \n",
      "11          88  \n",
      "12          96  \n",
      "13         100  \n",
      "14          83  \n",
      "15          95  \n",
      "16          82  \n",
      "17         100  \n",
      "18          35  \n",
      "19          50  \n",
      "[[26.479226300000004, 80.3160441, '2020-04-18 12:45:09', '2020-04-18 14:52:45.567000', 56.05]]\n"
     ]
    }
   ],
   "source": [
    "import pandas as pd\n",
    "import datetime\n",
    "output = []\n",
    "g_df = pd.read_csv(\"temp_out.csv\")\n",
    "s_df = pd.read_csv(\"temp_out2.csv\")\n",
    "print(g_df)\n",
    "print(s_df)\n",
    "g_rows = g_df.shape[0]\n",
    "s_rows = s_df.shape[0]\n",
    "\n",
    "for x in range(g_rows):\n",
    "    g_lat = g_df.at[x,'Latitude']\n",
    "    g_long = g_df.at[x,'Longitude']\n",
    "    g_start = g_df.at[x,'StartTime']\n",
    "    g_end = g_df.at[x,'EndTime']\n",
    "    g_confidence = g_df.at[x,'Confidence']\n",
    "    for y in range(s_rows):\n",
    "        \n",
    "        s_lat = s_df.at[y,'Latitude']\n",
    "        s_long = s_df.at[y,'Longitude']\n",
    "        s_start = s_df.at[y,'StartTime']\n",
    "        s_end = s_df.at[y,'EndTime']\n",
    "        s_confidence = s_df.at[y,'Confidence']\n",
    "#         print(g_lat,s_lat)\n",
    "        if((s_lat == g_lat) and (s_long == g_long) and (s_end >= g_start) and (g_end >= s_start)):\n",
    "            \n",
    "            temp = []\n",
    "            temp.append(s_lat)\n",
    "            temp.append(s_long)\n",
    "            s = max(s_start,g_start)\n",
    "            s = datetime.datetime.fromtimestamp(s / 1e3)\n",
    "            e = min(s_end,g_end)\n",
    "            e = datetime.datetime.fromtimestamp(e / 1e3)\n",
    "            temp.append(str(s))\n",
    "            temp.append(str(e))\n",
    "            temp.append((s_confidence * g_confidence*1.0)/100)\n",
    "            output.append(temp)\n",
    "    \n",
    "print(output)    "
   ]
  },
  {
   "cell_type": "code",
   "execution_count": 40,
   "metadata": {},
   "outputs": [
    {
     "name": "stdout",
     "output_type": "stream",
     "text": [
      "[26.512338800000002, 80.2329]\n",
      "[26.512338800000002, 80.2329]\n",
      "[26.5051896, 80.23385400000001]\n",
      "[26.5051896, 80.23385400000001]\n",
      "[26.5051896, 80.23385400000001]\n",
      "[26.5051896, 80.23385400000001]\n",
      "[26.479226300000004, 80.3160441]\n"
     ]
    },
    {
     "data": {
      "image/png": "[encoded data removed]",
      "text/plain": [
       "<Figure size 432x288 with 1 Axes>"
      ]
     },
     "metadata": {
      "needs_background": "light"
     },
     "output_type": "display_data"
    }
   ],
   "source": [
    "swa_long = s_df['Longitude'].tolist()\n",
    "swa_lati = s_df['Latitude'].tolist()\n",
    "guddu_long = g_df['Longitude'].tolist()\n",
    "guddu_lati = g_df['Latitude'].tolist()\n",
    "\n",
    "from matplotlib import pyplot as plt\n",
    "plt.plot( swa_lati, swa_long)\n",
    "plt.plot(guddu_lati,guddu_long)\n",
    "intersect = []\n",
    "for i in range(len(swa_long)):\n",
    "    for j in range(len(guddu_long)):\n",
    "        if((swa_long[i] == guddu_long[j]) and (swa_lati[i] == guddu_lati[j])):\n",
    "            temp = []\n",
    "            temp.append(swa_lati[i])\n",
    "            temp.append(swa_long[i])\n",
    "            \n",
    "            intersect.append(temp)\n",
    "        \n",
    "            \n",
    "for x in intersect:\n",
    "    print(x) \n",
    "plt.show()\n"
   ]
  },
  {
   "cell_type": "code",
   "execution_count": null,
   "metadata": {},
   "outputs": [],
   "source": []
  }
 ],
 "metadata": {
  "kernelspec": {
   "display_name": "Python 3",
   "language": "python",
   "name": "python3"
  },
  "language_info": {
   "codemirror_mode": {
    "name": "ipython",
    "version": 3
   },
   "file_extension": ".py",
   "mimetype": "text/x-python",
   "name": "python",
   "nbconvert_exporter": "python",
   "pygments_lexer": "ipython3",
   "version": "3.7.3"
  }
 },
 "nbformat": 4,
 "nbformat_minor": 2
}
